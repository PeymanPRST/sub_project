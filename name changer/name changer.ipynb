{
 "cells": [
  {
   "cell_type": "code",
   "execution_count": 32,
   "metadata": {},
   "outputs": [],
   "source": [
    "import os\n",
    "\n",
    "folder = 'C:\\\\New folder\\\\Dr. Surya\\\\Project\\\\crackimage0001.jpg\\\\'\n",
    "\n",
    "\n",
    "for i in range(1, 1001):\n",
    "  old_name = folder + 'crack (' + str(i) + ').jpeg'\n",
    "  new_name = folder + 'image' + str(i).zfill(4) + '.jpeg'\n",
    "\n",
    "  os.rename(old_name, new_name)"
   ]
  }
 ],
 "metadata": {
  "kernelspec": {
   "display_name": "Python 3",
   "language": "python",
   "name": "python3"
  },
  "language_info": {
   "name": "python",
   "version": "3.11.5"
  },
  "orig_nbformat": 4
 },
 "nbformat": 4,
 "nbformat_minor": 2
}
