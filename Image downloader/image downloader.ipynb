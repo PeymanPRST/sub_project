{
 "cells": [
  {
   "cell_type": "code",
   "execution_count": 13,
   "metadata": {},
   "outputs": [
    {
     "ename": "ModuleNotFoundError",
     "evalue": "No module named 'bs4'",
     "output_type": "error",
     "traceback": [
      "\u001b[1;31m---------------------------------------------------------------------------\u001b[0m",
      "\u001b[1;31mModuleNotFoundError\u001b[0m                       Traceback (most recent call last)",
      "\u001b[1;32mc:\\New folder\\Dr. Surya\\Project\\image downloader.ipynb Cell 1\u001b[0m line \u001b[0;36m3\n\u001b[0;32m      <a href='vscode-notebook-cell:/c%3A/New%20folder/Dr.%20Surya/Project/image%20downloader.ipynb#W0sZmlsZQ%3D%3D?line=0'>1</a>\u001b[0m \u001b[39mimport\u001b[39;00m \u001b[39mos\u001b[39;00m\n\u001b[0;32m      <a href='vscode-notebook-cell:/c%3A/New%20folder/Dr.%20Surya/Project/image%20downloader.ipynb#W0sZmlsZQ%3D%3D?line=1'>2</a>\u001b[0m \u001b[39mimport\u001b[39;00m \u001b[39mrequests\u001b[39;00m\n\u001b[1;32m----> <a href='vscode-notebook-cell:/c%3A/New%20folder/Dr.%20Surya/Project/image%20downloader.ipynb#W0sZmlsZQ%3D%3D?line=2'>3</a>\u001b[0m \u001b[39mfrom\u001b[39;00m \u001b[39mbs4\u001b[39;00m \u001b[39mimport\u001b[39;00m BeautifulSoup\n\u001b[0;32m      <a href='vscode-notebook-cell:/c%3A/New%20folder/Dr.%20Surya/Project/image%20downloader.ipynb#W0sZmlsZQ%3D%3D?line=4'>5</a>\u001b[0m \u001b[39m# Directory to save images\u001b[39;00m\n\u001b[0;32m      <a href='vscode-notebook-cell:/c%3A/New%20folder/Dr.%20Surya/Project/image%20downloader.ipynb#W0sZmlsZQ%3D%3D?line=5'>6</a>\u001b[0m download_directory \u001b[39m=\u001b[39m \u001b[39m\"\u001b[39m\u001b[39mC:\u001b[39m\u001b[39m\\\\\u001b[39;00m\u001b[39mNew folder\u001b[39m\u001b[39m\\\\\u001b[39;00m\u001b[39mDr. Surya\u001b[39m\u001b[39m\\\\\u001b[39;00m\u001b[39mProject\u001b[39m\u001b[39m\\\\\u001b[39;00m\u001b[39mcrack\u001b[39m\u001b[39m\"\u001b[39m\n",
      "\u001b[1;31mModuleNotFoundError\u001b[0m: No module named 'bs4'"
     ]
    }
   ],
   "source": [
    "import os\n",
    "import requests\n",
    "from bs4 import BeautifulSoup\n",
    "\n",
    "# Directory to save images\n",
    "download_directory = \"C:\\\\New folder\\\\Dr. Surya\\\\Project\\\\crack\"\n",
    "\n",
    "# Search query and image dimensions\n",
    "query = \"Concrete Wall Crack\"\n",
    "dimensions = \"256x256\"\n",
    "\n",
    "# Send request to Google Images and parse HTML response\n",
    "response = requests.get(f\"https://www.google.com/search?q={query}&tbm=isch&tbs=isz:ex,iszw:256,iszh:256\")\n",
    "soup = BeautifulSoup(response.content, 'html.parser')\n",
    "\n",
    "# Find all image elements on the page\n",
    "image_elements = soup.find_all('img', class_='rg_i')\n",
    "\n",
    "# Download loop\n",
    "for i in range(30):\n",
    "    try:\n",
    "        if len(image_elements) > i:\n",
    "            image_link = image_elements[i]['src']\n",
    "            \n",
    "            if image_link is not None:\n",
    "                full_image_link = image_link.replace(\"s107\", \"orig\")\n",
    "                print(full_image_link)\n",
    "\n",
    "                # Save image locally\n",
    "                image_name = os.path.join(download_directory, f\"crack_{i + 1}.jpeg\")\n",
    "                response = requests.get(full_image_link)\n",
    "                \n",
    "                with open(image_name, 'wb') as file:\n",
    "                    file.write(response.content)\n",
    "                    \n",
    "                print(f\"Image {i + 1} downloaded successfully.\")\n",
    "            else:\n",
    "                print(f\"No image link found at index {i + 1}\")\n",
    "        else:\n",
    "            print(f\"No more images found at index {i + 1}\")\n",
    "    except Exception as e:\n",
    "        print(f\"Error occurred while downloading image at index {i + 1}: {str(e)}\")\n"
   ]
  }
 ],
 "metadata": {
  "kernelspec": {
   "display_name": "Python 3",
   "language": "python",
   "name": "python3"
  },
  "language_info": {
   "codemirror_mode": {
    "name": "ipython",
    "version": 3
   },
   "file_extension": ".py",
   "mimetype": "text/x-python",
   "name": "python",
   "nbconvert_exporter": "python",
   "pygments_lexer": "ipython3",
   "version": "3.11.6"
  },
  "orig_nbformat": 4
 },
 "nbformat": 4,
 "nbformat_minor": 2
}
